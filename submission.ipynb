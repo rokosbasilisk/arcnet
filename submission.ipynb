{
 "cells": [
  {
   "cell_type": "code",
   "execution_count": 3,
   "id": "4ad960df",
   "metadata": {},
   "outputs": [],
   "source": [
    "import torch\n",
    "import torch.nn as nn\n",
    "from torch.utils.data import Dataset, DataLoader\n",
    "import json\n",
    "import numpy as np\n",
    "from tqdm import tqdm\n",
    "import os\n",
    "\n",
    "# Constants\n",
    "GRID_SIZE = 30\n",
    "NUM_COLORS = 10\n",
    "CONTEXT_LENGTH = 4\n",
    "BATCH_SIZE = 16\n",
    "\n",
    "# Import the GridTransformer model\n",
    "from grid_transformer import GridTransformer\n",
    "\n",
    "class ARCTestDataset(Dataset):\n",
    "    def __init__(self, test_file):\n",
    "        with open(test_file, 'r') as f:\n",
    "            self.test_data = json.load(f)\n",
    "        \n",
    "        self.data = []\n",
    "        self.task_ids = []\n",
    "        for task_id, task in self.test_data.items():\n",
    "            for test_pair in task['test']:\n",
    "                input_sequence = self.preprocess_grid(test_pair['input'])\n",
    "                while len(input_sequence) < CONTEXT_LENGTH:\n",
    "                    input_sequence.insert(0, np.zeros((GRID_SIZE, GRID_SIZE), dtype=int))\n",
    "                input_window = input_sequence[-CONTEXT_LENGTH:]\n",
    "                self.data.append(input_window)\n",
    "                self.task_ids.append(task_id)\n",
    "    \n",
    "    def preprocess_grid(self, grid):\n",
    "        if isinstance(grid[0], list):  # If it's already a 2D grid\n",
    "            return [self.preprocess_single_grid(grid)]\n",
    "        else:  # If it's a sequence of grids\n",
    "            return [self.preprocess_single_grid(g) for g in grid]\n",
    "    \n",
    "    def preprocess_single_grid(self, grid):\n",
    "        padded_grid = np.zeros((GRID_SIZE, GRID_SIZE), dtype=int)\n",
    "        h, w = min(GRID_SIZE, len(grid)), min(GRID_SIZE, len(grid[0]))\n",
    "        padded_grid[:h, :w] = np.array(grid)[:h, :w]\n",
    "        return padded_grid\n",
    "    \n",
    "    def __len__(self):\n",
    "        return len(self.data)\n",
    "    \n",
    "    def __getitem__(self, idx):\n",
    "        return torch.tensor(self.data[idx], dtype=torch.long), self.task_ids[idx]\n",
    "\n",
    "def generate_solutions(model, test_loader, device):\n",
    "    model.eval()\n",
    "    solutions = {}\n",
    "    \n",
    "    with torch.no_grad():\n",
    "        for inputs, task_ids in tqdm(test_loader, desc=\"Generating solutions\"):\n",
    "            inputs = inputs.to(device)\n",
    "            outputs = model(inputs)\n",
    "            predicted_grids = torch.argmax(outputs, dim=3).cpu().numpy()\n",
    "            \n",
    "            for pred_grid, task_id in zip(predicted_grids, task_ids):\n",
    "                if task_id not in solutions:\n",
    "                    solutions[task_id] = {\"test\": []}\n",
    "                \n",
    "                # Trim the grid to remove padding\n",
    "                trimmed_grid = trim_grid(pred_grid)\n",
    "                solutions[task_id][\"test\"].append({\"output\": trimmed_grid.tolist()})\n",
    "    \n",
    "    return solutions\n",
    "\n",
    "def trim_grid(grid):\n",
    "    non_zero_rows = np.any(grid != 0, axis=1)\n",
    "    non_zero_cols = np.any(grid != 0, axis=0)\n",
    "    row_indices = np.where(non_zero_rows)[0]\n",
    "    col_indices = np.where(non_zero_cols)[0]\n",
    "    if len(row_indices) == 0 or len(col_indices) == 0:\n",
    "        return np.array([[0]])\n",
    "    return grid[row_indices[0]:row_indices[-1]+1, col_indices[0]:col_indices[-1]+1]"
   ]
  },
  {
   "cell_type": "code",
   "execution_count": 4,
   "id": "790bc778",
   "metadata": {},
   "outputs": [
    {
     "name": "stdout",
     "output_type": "stream",
     "text": [
      "Using device: cuda\n"
     ]
    },
    {
     "name": "stderr",
     "output_type": "stream",
     "text": [
      "Generating solutions: 100%|██████████| 7/7 [00:00<00:00, 21.31it/s]"
     ]
    },
    {
     "name": "stdout",
     "output_type": "stream",
     "text": [
      "Solutions generated and saved as arc-agi_test_solutions.json\n"
     ]
    },
    {
     "name": "stderr",
     "output_type": "stream",
     "text": [
      "\n"
     ]
    }
   ],
   "source": [
    "device = torch.device(\"cuda\" if torch.cuda.is_available() else \"cpu\")\n",
    "print(f\"Using device: {device}\")\n",
    "\n",
    "# Load the fine-tuned model\n",
    "model = GridTransformer(num_layers=2, embed_dim=64, num_heads=4, ff_dim=256).to(device)\n",
    "model.load_state_dict(torch.load(\"grid_transformer_finetuned.pth\"))\n",
    "model = model.to(device)\n",
    "\n",
    "# Create dataset and dataloader for ARC test data\n",
    "test_dataset = ARCTestDataset(\"data/arc-agi_test_challenges.json\")\n",
    "test_loader = DataLoader(test_dataset, batch_size=BATCH_SIZE)\n",
    "\n",
    "# Generate solutions\n",
    "solutions = generate_solutions(model, test_loader, device)\n",
    "\n",
    "# Save the solutions\n",
    "with open(\"arc-agi_test_solutions.json\", \"w\") as f:\n",
    "    json.dump(solutions, f, indent=2)\n",
    "\n",
    "print(\"Solutions generated and saved as arc-agi_test_solutions.json\")\n"
   ]
  },
  {
   "cell_type": "code",
   "execution_count": 9,
   "id": "d4ccae2c",
   "metadata": {},
   "outputs": [],
   "source": [
    "test_data = json.loads(open(\"data/arc-agi_test_challenges.json\",'r').read())"
   ]
  },
  {
   "cell_type": "code",
   "execution_count": null,
   "id": "440b7c79",
   "metadata": {},
   "outputs": [],
   "source": [
    "list(solutions.values())[0]"
   ]
  },
  {
   "cell_type": "code",
   "execution_count": 30,
   "id": "4b176708",
   "metadata": {},
   "outputs": [
    {
     "data": {
      "text/plain": [
       "{'test': [{'output': [[7, 0, 7], [7, 0, 7], [7, 7, 0]]}]}"
      ]
     },
     "execution_count": 30,
     "metadata": {},
     "output_type": "execute_result"
    }
   ],
   "source": [
    "list(solutions.values())[0]"
   ]
  },
  {
   "cell_type": "code",
   "execution_count": 40,
   "id": "42e4b68b",
   "metadata": {},
   "outputs": [],
   "source": [
    "import matplotlib.pyplot as plt\n",
    "\n",
    "def visualize_matrix(matrix_data):\n",
    "    # Extract the output matrix\n",
    "    output_matrix = matrix_data\n",
    "    \n",
    "    # Create a new figure\n",
    "    plt.figure(figsize=(6, 6))\n",
    "    \n",
    "    # Display the matrix\n",
    "    plt.imshow(output_matrix, cmap='tab10', vmin=0, vmax=9)\n",
    "    \n",
    "    # Remove axes\n",
    "    plt.axis('off')\n",
    "    \n",
    "    # Add a title\n",
    "    plt.title('Output Matrix')\n",
    "    \n",
    "    # Show the plot\n",
    "    plt.show()\n"
   ]
  },
  {
   "cell_type": "code",
   "execution_count": 59,
   "id": "b0cf0ccf",
   "metadata": {},
   "outputs": [
    {
     "data": {
      "image/png": "[encoded data removed]",
      "text/plain": [
       "<Figure size 600x600 with 1 Axes>"
      ]
     },
     "metadata": {},
     "output_type": "display_data"
    }
   ],
   "source": [
    "visualize_matrix(list(test_data.values())[20]['test'][0]['input'])"
   ]
  }
 ],
 "metadata": {
  "kernelspec": {
   "display_name": "Python 3 (ipykernel)",
   "language": "python",
   "name": "python3"
  },
  "language_info": {
   "codemirror_mode": {
    "name": "ipython",
    "version": 3
   },
   "file_extension": ".py",
   "mimetype": "text/x-python",
   "name": "python",
   "nbconvert_exporter": "python",
   "pygments_lexer": "ipython3",
   "version": "3.11.5"
  }
 },
 "nbformat": 4,
 "nbformat_minor": 5
}
